{
  "nbformat": 4,
  "nbformat_minor": 0,
  "metadata": {
    "colab": {
      "name": "Customer-Segmentation-RFM-Matrix-Principle.ipynb",
      "provenance": [],
      "collapsed_sections": [],
      "authorship_tag": "ABX9TyMlv/7w9ZkytnlUYNeXtkFF",
      "include_colab_link": true
    },
    "kernelspec": {
      "name": "python3",
      "display_name": "Python 3"
    },
    "language_info": {
      "name": "python"
    }
  },
  "cells": [
    {
      "cell_type": "markdown",
      "metadata": {
        "id": "view-in-github",
        "colab_type": "text"
      },
      "source": [
        "<a href=\"https://colab.research.google.com/github/copev313/Customer-Segmentation-RFM-Matrix-Principle/blob/main/customer-segmentation.ipynb\" target=\"_parent\"><img src=\"https://colab.research.google.com/assets/colab-badge.svg\" alt=\"Open In Colab\"/></a>"
      ]
    },
    {
      "cell_type": "markdown",
      "metadata": {
        "id": "aYUft7bMTQpQ"
      },
      "source": [
        "# **Customer Segmentation: The RFM Matrix Principle**"
      ]
    },
    {
      "cell_type": "markdown",
      "metadata": {
        "id": "KQf95plWUuNF"
      },
      "source": [
        "## Introduction"
      ]
    },
    {
      "cell_type": "markdown",
      "metadata": {
        "id": "nDp2yQuSTWDH"
      },
      "source": [
        "In this project we will be demonstrating how the *RFM matrix principle* can be used to investigate customer segmentation, figuring out who our best customers are.\n",
        "\n",
        "**RFM** -- *Recency, Frequency, Monetary*\n",
        "\n",
        "This technique uses past customer behavior on purchases to split them into different groups."
      ]
    },
    {
      "cell_type": "markdown",
      "metadata": {
        "id": "Di5_2oQOUsd1"
      },
      "source": [
        "## How RFM Works\n",
        "\n",
        "We will be taking a look at the following three target categories in our analysis:\n",
        "\n",
        "- **Recency**: how many days since the last purchase?\n",
        "\n",
        "- **Frequency**: how many total purchases does the customer have?\n",
        "\n",
        "- **Monetary Value**: what is the total amount of money the customer has spent?"
      ]
    },
    {
      "cell_type": "markdown",
      "metadata": {
        "id": "nTYJ6ZCGdudT"
      },
      "source": [
        "---\n",
        "\n",
        "## Load & Explore Our Data"
      ]
    },
    {
      "cell_type": "code",
      "metadata": {
        "colab": {
          "base_uri": "https://localhost:8080/"
        },
        "id": "FjkF5PgsTDtl",
        "outputId": "152b2bc6-fb48-4e7d-a1b2-baf95bb40731"
      },
      "source": [
        "import pandas as pd\n",
        "import warnings\n",
        "\n",
        "\n",
        "warnings.filterwarnings('ignore')\n",
        "pd.set_option('display.max_columns', None)\n",
        "\n",
        "retail_data = pd.read_csv('online_retail.csv')\n",
        "\n",
        "print(retail_data.head())"
      ],
      "execution_count": 4,
      "outputs": [
        {
          "output_type": "stream",
          "text": [
            "  InvoiceNo StockCode                          Description  Quantity  \\\n",
            "0    536365    85123A   WHITE HANGING HEART T-LIGHT HOLDER         6   \n",
            "1    536365     71053                  WHITE METAL LANTERN         6   \n",
            "2    536365    84406B       CREAM CUPID HEARTS COAT HANGER         8   \n",
            "3    536365    84029G  KNITTED UNION FLAG HOT WATER BOTTLE         6   \n",
            "4    536365    84029E       RED WOOLLY HOTTIE WHITE HEART.         6   \n",
            "\n",
            "    InvoiceDate  UnitPrice  CustomerID         Country  \n",
            "0  12/1/10 8:26       2.55     17850.0  United Kingdom  \n",
            "1  12/1/10 8:26       3.39     17850.0  United Kingdom  \n",
            "2  12/1/10 8:26       2.75     17850.0  United Kingdom  \n",
            "3  12/1/10 8:26       3.39     17850.0  United Kingdom  \n",
            "4  12/1/10 8:26       3.39     17850.0  United Kingdom  \n"
          ],
          "name": "stdout"
        }
      ]
    },
    {
      "cell_type": "code",
      "metadata": {
        "colab": {
          "base_uri": "https://localhost:8080/"
        },
        "id": "7099aVQUdzr-",
        "outputId": "50f18ebc-e69f-44f8-f16d-360b17bba1e4"
      },
      "source": [
        "# What are the different countries represented in our data?\n",
        "print(retail_data['Country'].unique())\n",
        "\n",
        "# How many different countries?\n",
        "print('\\nThere are ', retail_data['Country'].nunique(), ' different countries.')"
      ],
      "execution_count": 5,
      "outputs": [
        {
          "output_type": "stream",
          "text": [
            "['United Kingdom' 'France' 'Australia' 'Netherlands' 'Germany' 'Norway'\n",
            " 'EIRE' 'Switzerland' 'Spain' 'Poland' 'Portugal' 'Italy' 'Belgium'\n",
            " 'Lithuania' 'Japan' 'Iceland' 'Channel Islands' 'Denmark' 'Cyprus'\n",
            " 'Sweden' 'Austria' 'Israel' 'Finland' 'Bahrain' 'Greece' 'Hong Kong'\n",
            " 'Singapore' 'Lebanon' 'United Arab Emirates' 'Saudi Arabia'\n",
            " 'Czech Republic' 'Canada' 'Unspecified' 'Brazil' 'USA'\n",
            " 'European Community' 'Malta' 'RSA']\n",
            "\n",
            "There are  38  different countries.\n"
          ],
          "name": "stdout"
        }
      ]
    },
    {
      "cell_type": "markdown",
      "metadata": {
        "id": "_9UBSnp8fG68"
      },
      "source": [
        "---\n",
        "Let's find the number of customers per country."
      ]
    },
    {
      "cell_type": "code",
      "metadata": {
        "colab": {
          "base_uri": "https://localhost:8080/",
          "height": 1000
        },
        "id": "R7YSYRI4ea04",
        "outputId": "1fb9bb88-d412-481e-e2c0-08b2b5fd99a2"
      },
      "source": [
        "customer_country = retail_data[['Country', 'CustomerID']].drop_duplicates()\n",
        "customer_country.groupby(['Country'])['CustomerID'].aggregate('count')\\\n",
        "                .reset_index().sort_values('CustomerID', ascending=False)"
      ],
      "execution_count": 6,
      "outputs": [
        {
          "output_type": "execute_result",
          "data": {
            "text/html": [
              "<div>\n",
              "<style scoped>\n",
              "    .dataframe tbody tr th:only-of-type {\n",
              "        vertical-align: middle;\n",
              "    }\n",
              "\n",
              "    .dataframe tbody tr th {\n",
              "        vertical-align: top;\n",
              "    }\n",
              "\n",
              "    .dataframe thead th {\n",
              "        text-align: right;\n",
              "    }\n",
              "</style>\n",
              "<table border=\"1\" class=\"dataframe\">\n",
              "  <thead>\n",
              "    <tr style=\"text-align: right;\">\n",
              "      <th></th>\n",
              "      <th>Country</th>\n",
              "      <th>CustomerID</th>\n",
              "    </tr>\n",
              "  </thead>\n",
              "  <tbody>\n",
              "    <tr>\n",
              "      <th>36</th>\n",
              "      <td>United Kingdom</td>\n",
              "      <td>3950</td>\n",
              "    </tr>\n",
              "    <tr>\n",
              "      <th>14</th>\n",
              "      <td>Germany</td>\n",
              "      <td>95</td>\n",
              "    </tr>\n",
              "    <tr>\n",
              "      <th>13</th>\n",
              "      <td>France</td>\n",
              "      <td>87</td>\n",
              "    </tr>\n",
              "    <tr>\n",
              "      <th>31</th>\n",
              "      <td>Spain</td>\n",
              "      <td>31</td>\n",
              "    </tr>\n",
              "    <tr>\n",
              "      <th>3</th>\n",
              "      <td>Belgium</td>\n",
              "      <td>25</td>\n",
              "    </tr>\n",
              "    <tr>\n",
              "      <th>33</th>\n",
              "      <td>Switzerland</td>\n",
              "      <td>21</td>\n",
              "    </tr>\n",
              "    <tr>\n",
              "      <th>27</th>\n",
              "      <td>Portugal</td>\n",
              "      <td>19</td>\n",
              "    </tr>\n",
              "    <tr>\n",
              "      <th>19</th>\n",
              "      <td>Italy</td>\n",
              "      <td>15</td>\n",
              "    </tr>\n",
              "    <tr>\n",
              "      <th>12</th>\n",
              "      <td>Finland</td>\n",
              "      <td>12</td>\n",
              "    </tr>\n",
              "    <tr>\n",
              "      <th>1</th>\n",
              "      <td>Austria</td>\n",
              "      <td>11</td>\n",
              "    </tr>\n",
              "    <tr>\n",
              "      <th>25</th>\n",
              "      <td>Norway</td>\n",
              "      <td>10</td>\n",
              "    </tr>\n",
              "    <tr>\n",
              "      <th>24</th>\n",
              "      <td>Netherlands</td>\n",
              "      <td>9</td>\n",
              "    </tr>\n",
              "    <tr>\n",
              "      <th>0</th>\n",
              "      <td>Australia</td>\n",
              "      <td>9</td>\n",
              "    </tr>\n",
              "    <tr>\n",
              "      <th>6</th>\n",
              "      <td>Channel Islands</td>\n",
              "      <td>9</td>\n",
              "    </tr>\n",
              "    <tr>\n",
              "      <th>9</th>\n",
              "      <td>Denmark</td>\n",
              "      <td>9</td>\n",
              "    </tr>\n",
              "    <tr>\n",
              "      <th>7</th>\n",
              "      <td>Cyprus</td>\n",
              "      <td>8</td>\n",
              "    </tr>\n",
              "    <tr>\n",
              "      <th>32</th>\n",
              "      <td>Sweden</td>\n",
              "      <td>8</td>\n",
              "    </tr>\n",
              "    <tr>\n",
              "      <th>20</th>\n",
              "      <td>Japan</td>\n",
              "      <td>8</td>\n",
              "    </tr>\n",
              "    <tr>\n",
              "      <th>26</th>\n",
              "      <td>Poland</td>\n",
              "      <td>6</td>\n",
              "    </tr>\n",
              "    <tr>\n",
              "      <th>34</th>\n",
              "      <td>USA</td>\n",
              "      <td>4</td>\n",
              "    </tr>\n",
              "    <tr>\n",
              "      <th>5</th>\n",
              "      <td>Canada</td>\n",
              "      <td>4</td>\n",
              "    </tr>\n",
              "    <tr>\n",
              "      <th>37</th>\n",
              "      <td>Unspecified</td>\n",
              "      <td>4</td>\n",
              "    </tr>\n",
              "    <tr>\n",
              "      <th>18</th>\n",
              "      <td>Israel</td>\n",
              "      <td>4</td>\n",
              "    </tr>\n",
              "    <tr>\n",
              "      <th>15</th>\n",
              "      <td>Greece</td>\n",
              "      <td>4</td>\n",
              "    </tr>\n",
              "    <tr>\n",
              "      <th>10</th>\n",
              "      <td>EIRE</td>\n",
              "      <td>3</td>\n",
              "    </tr>\n",
              "    <tr>\n",
              "      <th>23</th>\n",
              "      <td>Malta</td>\n",
              "      <td>2</td>\n",
              "    </tr>\n",
              "    <tr>\n",
              "      <th>35</th>\n",
              "      <td>United Arab Emirates</td>\n",
              "      <td>2</td>\n",
              "    </tr>\n",
              "    <tr>\n",
              "      <th>2</th>\n",
              "      <td>Bahrain</td>\n",
              "      <td>2</td>\n",
              "    </tr>\n",
              "    <tr>\n",
              "      <th>22</th>\n",
              "      <td>Lithuania</td>\n",
              "      <td>1</td>\n",
              "    </tr>\n",
              "    <tr>\n",
              "      <th>8</th>\n",
              "      <td>Czech Republic</td>\n",
              "      <td>1</td>\n",
              "    </tr>\n",
              "    <tr>\n",
              "      <th>21</th>\n",
              "      <td>Lebanon</td>\n",
              "      <td>1</td>\n",
              "    </tr>\n",
              "    <tr>\n",
              "      <th>28</th>\n",
              "      <td>RSA</td>\n",
              "      <td>1</td>\n",
              "    </tr>\n",
              "    <tr>\n",
              "      <th>29</th>\n",
              "      <td>Saudi Arabia</td>\n",
              "      <td>1</td>\n",
              "    </tr>\n",
              "    <tr>\n",
              "      <th>30</th>\n",
              "      <td>Singapore</td>\n",
              "      <td>1</td>\n",
              "    </tr>\n",
              "    <tr>\n",
              "      <th>17</th>\n",
              "      <td>Iceland</td>\n",
              "      <td>1</td>\n",
              "    </tr>\n",
              "    <tr>\n",
              "      <th>4</th>\n",
              "      <td>Brazil</td>\n",
              "      <td>1</td>\n",
              "    </tr>\n",
              "    <tr>\n",
              "      <th>11</th>\n",
              "      <td>European Community</td>\n",
              "      <td>1</td>\n",
              "    </tr>\n",
              "    <tr>\n",
              "      <th>16</th>\n",
              "      <td>Hong Kong</td>\n",
              "      <td>0</td>\n",
              "    </tr>\n",
              "  </tbody>\n",
              "</table>\n",
              "</div>"
            ],
            "text/plain": [
              "                 Country  CustomerID\n",
              "36        United Kingdom        3950\n",
              "14               Germany          95\n",
              "13                France          87\n",
              "31                 Spain          31\n",
              "3                Belgium          25\n",
              "33           Switzerland          21\n",
              "27              Portugal          19\n",
              "19                 Italy          15\n",
              "12               Finland          12\n",
              "1                Austria          11\n",
              "25                Norway          10\n",
              "24           Netherlands           9\n",
              "0              Australia           9\n",
              "6        Channel Islands           9\n",
              "9                Denmark           9\n",
              "7                 Cyprus           8\n",
              "32                Sweden           8\n",
              "20                 Japan           8\n",
              "26                Poland           6\n",
              "34                   USA           4\n",
              "5                 Canada           4\n",
              "37           Unspecified           4\n",
              "18                Israel           4\n",
              "15                Greece           4\n",
              "10                  EIRE           3\n",
              "23                 Malta           2\n",
              "35  United Arab Emirates           2\n",
              "2                Bahrain           2\n",
              "22             Lithuania           1\n",
              "8         Czech Republic           1\n",
              "21               Lebanon           1\n",
              "28                   RSA           1\n",
              "29          Saudi Arabia           1\n",
              "30             Singapore           1\n",
              "17               Iceland           1\n",
              "4                 Brazil           1\n",
              "11    European Community           1\n",
              "16             Hong Kong           0"
            ]
          },
          "metadata": {
            "tags": []
          },
          "execution_count": 6
        }
      ]
    },
    {
      "cell_type": "markdown",
      "metadata": {
        "id": "Zz_SQRahfNeL"
      },
      "source": [
        "Since the data shows more than 90% of our customer are from the UK only, we will limit out data to United Kingdom only. \n",
        "\n",
        "**Some research shows that customer segmentation can vary with geography.*"
      ]
    },
    {
      "cell_type": "code",
      "metadata": {
        "id": "J6-hcO2qfNHM"
      },
      "source": [
        "# Refine our data down to just UK customers:\n",
        "uk_data = retail_data.loc[retail_data['Country'] == 'United Kingdom']\n"
      ],
      "execution_count": 7,
      "outputs": []
    },
    {
      "cell_type": "markdown",
      "metadata": {
        "id": "pWZqReP6gT3M"
      },
      "source": [
        "---\n",
        "\n",
        "## Data Cleaning"
      ]
    },
    {
      "cell_type": "code",
      "metadata": {
        "colab": {
          "base_uri": "https://localhost:8080/"
        },
        "id": "LQaWLy1BgWZL",
        "outputId": "844a4b61-1d95-469a-db5d-c996ad4297e6"
      },
      "source": [
        "# Check for null values:\n",
        "uk_data.isnull().sum(axis=0)"
      ],
      "execution_count": 8,
      "outputs": [
        {
          "output_type": "execute_result",
          "data": {
            "text/plain": [
              "InvoiceNo           0\n",
              "StockCode           0\n",
              "Description      1454\n",
              "Quantity            0\n",
              "InvoiceDate         0\n",
              "UnitPrice           0\n",
              "CustomerID     133600\n",
              "Country             0\n",
              "dtype: int64"
            ]
          },
          "metadata": {
            "tags": []
          },
          "execution_count": 8
        }
      ]
    },
    {
      "cell_type": "markdown",
      "metadata": {
        "id": "a0u8NZrIgl2M"
      },
      "source": [
        "We're missing values from the CustomerID and Description column.\n",
        "\n",
        "Since we won't be focusing on the customer's ID we can simple remove the missing values from that column."
      ]
    },
    {
      "cell_type": "code",
      "metadata": {
        "id": "bE3Kwx6rhIJd"
      },
      "source": [
        "uk_data = uk_data[pd.notnull(uk_data['CustomerID'])]"
      ],
      "execution_count": 9,
      "outputs": []
    },
    {
      "cell_type": "code",
      "metadata": {
        "id": "rFtJ6BW6hm_j"
      },
      "source": [
        "# Remove negative values in the Quantity column:\n",
        "uk_data = uk_data[(uk_data['Quantity'] > 0)]"
      ],
      "execution_count": 10,
      "outputs": []
    },
    {
      "cell_type": "code",
      "metadata": {
        "id": "Jw4TGm12iXyU"
      },
      "source": [
        "# Calculate a new column for total price:\n",
        "uk_data['TotalPrice'] = uk_data['Quantity'] * uk_data['UnitPrice']"
      ],
      "execution_count": 11,
      "outputs": []
    },
    {
      "cell_type": "markdown",
      "metadata": {
        "id": "x_azczzdiwVK"
      },
      "source": [
        "Now we need to find the first and last order in our data so that we can calculate ***recency***."
      ]
    },
    {
      "cell_type": "code",
      "metadata": {
        "colab": {
          "base_uri": "https://localhost:8080/"
        },
        "id": "x8wDfIFui9J9",
        "outputId": "98db38e3-1c14-4a02-fe8a-4c87b3b2f1ab"
      },
      "source": [
        "# First date:\n",
        "print('First Order: ', uk_data['InvoiceDate'].min())\n",
        "\n",
        "# Last date:\n",
        "print('Last Order: ', uk_data['InvoiceDate'].max())\n"
      ],
      "execution_count": 12,
      "outputs": [
        {
          "output_type": "stream",
          "text": [
            "First Order:  1/10/11 10:32\n",
            "Last Order:  9/9/11 9:52\n"
          ],
          "name": "stdout"
        }
      ]
    },
    {
      "cell_type": "code",
      "metadata": {
        "id": "u7LdbQ2rjYH_"
      },
      "source": [
        "import datetime as dt\n",
        "\n",
        "# 12/9/2011 was most recent, so we will use the next day for our calculations:\n",
        "now = dt.datetime(2011, 12, 10)\n",
        "\n",
        "# Make column datetime dtypes:\n",
        "uk_data['InvoiceDate'] = pd.to_datetime(uk_data['InvoiceDate'])"
      ],
      "execution_count": 13,
      "outputs": []
    },
    {
      "cell_type": "markdown",
      "metadata": {
        "id": "CLwLdRxCjUMD"
      },
      "source": [
        "---\n",
        "\n",
        "## RFM Customer Segmentation\n",
        "\n",
        "Let's start by first creating a RFM table."
      ]
    },
    {
      "cell_type": "code",
      "metadata": {
        "colab": {
          "base_uri": "https://localhost:8080/"
        },
        "id": "E6bf5iBakBQ2",
        "outputId": "b5f2ba09-d458-472d-e1d9-fef58490f504"
      },
      "source": [
        "rfm_table = uk_data.groupby('CustomerID').agg({\n",
        "    'InvoiceDate': lambda x: (now - x.max()).days, \n",
        "    'InvoiceNo': lambda x: len(x),\n",
        "    'TotalPrice': lambda x: x.sum()\n",
        "})\n",
        "\n",
        "rfm_table['InvoiceDate'] = rfm_table['InvoiceDate'].astype(int)\n",
        "\n",
        "rfm_table.rename(\n",
        "    columns = {\n",
        "        'InvoiceDate': 'recency',\n",
        "        'InvoiceNo': 'frequency',\n",
        "        'TotalPrice': 'monetary_value',\n",
        "    },\n",
        "\n",
        "    inplace = True\n",
        ")\n",
        "\n",
        "\n",
        "# Take a look:\n",
        "print(rfm_table.head(10))\n"
      ],
      "execution_count": 14,
      "outputs": [
        {
          "output_type": "stream",
          "text": [
            "            recency  frequency  monetary_value\n",
            "CustomerID                                    \n",
            "12346.0         325          1        77183.60\n",
            "12747.0           2        103         4196.01\n",
            "12748.0           0       4596        33719.73\n",
            "12749.0           3        199         4090.88\n",
            "12820.0           3         59          942.34\n",
            "12821.0         214          6           92.72\n",
            "12822.0          70         46          948.88\n",
            "12823.0          74          5         1759.50\n",
            "12824.0          59         25          397.12\n",
            "12826.0           2         91         1474.72\n"
          ],
          "name": "stdout"
        }
      ]
    },
    {
      "cell_type": "markdown",
      "metadata": {
        "id": "2Hi1OyHmnc0u"
      },
      "source": [
        "---\n",
        "\n",
        "Now we're going to split our metrics into segments by using quantiles. After, we'll create a customer segment RFM table to convey our best customers."
      ]
    },
    {
      "cell_type": "code",
      "metadata": {
        "id": "gAz1pdCOn6IW"
      },
      "source": [
        "# Split into quantiles;\n",
        "quantiles = rfm_table.quantile(q=[0.25, 0.5, 0.75])\n",
        "quantiles = quantiles.to_dict()"
      ],
      "execution_count": 15,
      "outputs": []
    },
    {
      "cell_type": "markdown",
      "metadata": {
        "id": "5N0oDdfGpNQ1"
      },
      "source": [
        "The lowest recency (r), highest frequency (f) and monetary amounts (m) will result in our best customers."
      ]
    },
    {
      "cell_type": "code",
      "metadata": {
        "id": "xJz4sd9codZC"
      },
      "source": [
        "# Create functions to calculate our different target scores.\n",
        "\n",
        "def r_score(x, p, d):\n",
        "    if (x <= d[p][0.25]):\n",
        "        return 1\n",
        "    elif (x <= d[p][0.50]):\n",
        "        return 2\n",
        "    elif (x <= d[p][0.75]): \n",
        "        return 3\n",
        "    else:\n",
        "        return 4\n",
        "    \n",
        "def fm_score(x, p, d):\n",
        "    if (x <= d[p][0.25]):\n",
        "        return 4\n",
        "    elif (x <= d[p][0.50]):\n",
        "        return 3\n",
        "    elif (x <= d[p][0.75]): \n",
        "        return 2\n",
        "    else:\n",
        "        return 1\n"
      ],
      "execution_count": 16,
      "outputs": []
    },
    {
      "cell_type": "code",
      "metadata": {
        "colab": {
          "base_uri": "https://localhost:8080/"
        },
        "id": "vyrZHUZKpefu",
        "outputId": "58a0e725-5343-4cdb-c803-79eb36a84758"
      },
      "source": [
        "# Create a table based off our previous:\n",
        "segmented_rfm  = rfm_table\n",
        "\n",
        "# Apply our functions to the appropriate columns:\n",
        "segmented_rfm['r_quartile'] = segmented_rfm['recency'].apply(\n",
        "    r_score, args=('recency', quantiles, )\n",
        ")\n",
        "\n",
        "segmented_rfm['f_quartile'] = segmented_rfm['frequency'].apply(\n",
        "    fm_score, args=('frequency', quantiles, )\n",
        ")\n",
        "\n",
        "segmented_rfm['m_quartile'] = segmented_rfm['monetary_value'].apply(\n",
        "    fm_score, args=('monetary_value', quantiles, )\n",
        ")\n",
        "\n",
        "print(segmented_rfm[['r_quartile', 'f_quartile', 'm_quartile']].head())"
      ],
      "execution_count": 18,
      "outputs": [
        {
          "output_type": "stream",
          "text": [
            "            r_quartile  f_quartile  m_quartile\n",
            "CustomerID                                    \n",
            "12346.0              4           4           1\n",
            "12747.0              1           1           1\n",
            "12748.0              1           1           1\n",
            "12749.0              1           1           1\n",
            "12820.0              1           2           2\n"
          ],
          "name": "stdout"
        }
      ]
    },
    {
      "cell_type": "markdown",
      "metadata": {
        "id": "Bi59j0DsrpTG"
      },
      "source": [
        "---\n",
        "\n",
        "Now, to visualize our findings better, we will find an RFM score for each customer. This will help us see how the segments have split our customer base."
      ]
    },
    {
      "cell_type": "code",
      "metadata": {
        "colab": {
          "base_uri": "https://localhost:8080/"
        },
        "id": "59uX1TN1rbqu",
        "outputId": "86848f2c-70d1-4cea-9605-11970e633523"
      },
      "source": [
        "# Create RFM score:\n",
        "segmented_rfm['RFMScore'] = segmented_rfm['r_quartile'].map(str)\\\n",
        "                            + segmented_rfm['f_quartile'].map(str)\\\n",
        "                            + segmented_rfm['m_quartile'].map(str)\n",
        "\n",
        "print(segmented_rfm.head(10))"
      ],
      "execution_count": 19,
      "outputs": [
        {
          "output_type": "stream",
          "text": [
            "            recency  frequency  monetary_value  r_quartile  f_quartile  \\\n",
            "CustomerID                                                               \n",
            "12346.0         325          1        77183.60           4           4   \n",
            "12747.0           2        103         4196.01           1           1   \n",
            "12748.0           0       4596        33719.73           1           1   \n",
            "12749.0           3        199         4090.88           1           1   \n",
            "12820.0           3         59          942.34           1           2   \n",
            "12821.0         214          6           92.72           4           4   \n",
            "12822.0          70         46          948.88           3           2   \n",
            "12823.0          74          5         1759.50           3           4   \n",
            "12824.0          59         25          397.12           3           3   \n",
            "12826.0           2         91         1474.72           1           2   \n",
            "\n",
            "            m_quartile RFMScore  \n",
            "CustomerID                       \n",
            "12346.0              1      441  \n",
            "12747.0              1      111  \n",
            "12748.0              1      111  \n",
            "12749.0              1      111  \n",
            "12820.0              2      122  \n",
            "12821.0              4      444  \n",
            "12822.0              2      322  \n",
            "12823.0              1      341  \n",
            "12824.0              3      333  \n",
            "12826.0              2      122  \n"
          ],
          "name": "stdout"
        }
      ]
    },
    {
      "cell_type": "markdown",
      "metadata": {
        "id": "lFH0QB-Kj_18"
      },
      "source": [
        "---\n"
      ]
    },
    {
      "cell_type": "code",
      "metadata": {
        "colab": {
          "base_uri": "https://localhost:8080/",
          "height": 388
        },
        "id": "lR0sGYM1sqTI",
        "outputId": "4988b441-3d40-4a25-dfcb-3e672709852a"
      },
      "source": [
        "# Display our top 10 customers:\n",
        "segmented_rfm[segmented_rfm['RFMScore'] == '111'].sort_values(\n",
        "    'monetary_value', ascending=False\n",
        "\n",
        ").head(10)\n"
      ],
      "execution_count": 20,
      "outputs": [
        {
          "output_type": "execute_result",
          "data": {
            "text/html": [
              "<div>\n",
              "<style scoped>\n",
              "    .dataframe tbody tr th:only-of-type {\n",
              "        vertical-align: middle;\n",
              "    }\n",
              "\n",
              "    .dataframe tbody tr th {\n",
              "        vertical-align: top;\n",
              "    }\n",
              "\n",
              "    .dataframe thead th {\n",
              "        text-align: right;\n",
              "    }\n",
              "</style>\n",
              "<table border=\"1\" class=\"dataframe\">\n",
              "  <thead>\n",
              "    <tr style=\"text-align: right;\">\n",
              "      <th></th>\n",
              "      <th>recency</th>\n",
              "      <th>frequency</th>\n",
              "      <th>monetary_value</th>\n",
              "      <th>r_quartile</th>\n",
              "      <th>f_quartile</th>\n",
              "      <th>m_quartile</th>\n",
              "      <th>RFMScore</th>\n",
              "    </tr>\n",
              "    <tr>\n",
              "      <th>CustomerID</th>\n",
              "      <th></th>\n",
              "      <th></th>\n",
              "      <th></th>\n",
              "      <th></th>\n",
              "      <th></th>\n",
              "      <th></th>\n",
              "      <th></th>\n",
              "    </tr>\n",
              "  </thead>\n",
              "  <tbody>\n",
              "    <tr>\n",
              "      <th>18102.0</th>\n",
              "      <td>0</td>\n",
              "      <td>431</td>\n",
              "      <td>259657.30</td>\n",
              "      <td>1</td>\n",
              "      <td>1</td>\n",
              "      <td>1</td>\n",
              "      <td>111</td>\n",
              "    </tr>\n",
              "    <tr>\n",
              "      <th>17450.0</th>\n",
              "      <td>8</td>\n",
              "      <td>337</td>\n",
              "      <td>194550.79</td>\n",
              "      <td>1</td>\n",
              "      <td>1</td>\n",
              "      <td>1</td>\n",
              "      <td>111</td>\n",
              "    </tr>\n",
              "    <tr>\n",
              "      <th>17511.0</th>\n",
              "      <td>2</td>\n",
              "      <td>963</td>\n",
              "      <td>91062.38</td>\n",
              "      <td>1</td>\n",
              "      <td>1</td>\n",
              "      <td>1</td>\n",
              "      <td>111</td>\n",
              "    </tr>\n",
              "    <tr>\n",
              "      <th>16684.0</th>\n",
              "      <td>4</td>\n",
              "      <td>277</td>\n",
              "      <td>66653.56</td>\n",
              "      <td>1</td>\n",
              "      <td>1</td>\n",
              "      <td>1</td>\n",
              "      <td>111</td>\n",
              "    </tr>\n",
              "    <tr>\n",
              "      <th>14096.0</th>\n",
              "      <td>4</td>\n",
              "      <td>5111</td>\n",
              "      <td>65164.79</td>\n",
              "      <td>1</td>\n",
              "      <td>1</td>\n",
              "      <td>1</td>\n",
              "      <td>111</td>\n",
              "    </tr>\n",
              "    <tr>\n",
              "      <th>13694.0</th>\n",
              "      <td>3</td>\n",
              "      <td>568</td>\n",
              "      <td>65039.62</td>\n",
              "      <td>1</td>\n",
              "      <td>1</td>\n",
              "      <td>1</td>\n",
              "      <td>111</td>\n",
              "    </tr>\n",
              "    <tr>\n",
              "      <th>15311.0</th>\n",
              "      <td>0</td>\n",
              "      <td>2379</td>\n",
              "      <td>60767.90</td>\n",
              "      <td>1</td>\n",
              "      <td>1</td>\n",
              "      <td>1</td>\n",
              "      <td>111</td>\n",
              "    </tr>\n",
              "    <tr>\n",
              "      <th>13089.0</th>\n",
              "      <td>2</td>\n",
              "      <td>1818</td>\n",
              "      <td>58825.83</td>\n",
              "      <td>1</td>\n",
              "      <td>1</td>\n",
              "      <td>1</td>\n",
              "      <td>111</td>\n",
              "    </tr>\n",
              "    <tr>\n",
              "      <th>15769.0</th>\n",
              "      <td>7</td>\n",
              "      <td>130</td>\n",
              "      <td>56252.72</td>\n",
              "      <td>1</td>\n",
              "      <td>1</td>\n",
              "      <td>1</td>\n",
              "      <td>111</td>\n",
              "    </tr>\n",
              "    <tr>\n",
              "      <th>15061.0</th>\n",
              "      <td>3</td>\n",
              "      <td>403</td>\n",
              "      <td>54534.14</td>\n",
              "      <td>1</td>\n",
              "      <td>1</td>\n",
              "      <td>1</td>\n",
              "      <td>111</td>\n",
              "    </tr>\n",
              "  </tbody>\n",
              "</table>\n",
              "</div>"
            ],
            "text/plain": [
              "            recency  frequency  monetary_value  r_quartile  f_quartile  \\\n",
              "CustomerID                                                               \n",
              "18102.0           0        431       259657.30           1           1   \n",
              "17450.0           8        337       194550.79           1           1   \n",
              "17511.0           2        963        91062.38           1           1   \n",
              "16684.0           4        277        66653.56           1           1   \n",
              "14096.0           4       5111        65164.79           1           1   \n",
              "13694.0           3        568        65039.62           1           1   \n",
              "15311.0           0       2379        60767.90           1           1   \n",
              "13089.0           2       1818        58825.83           1           1   \n",
              "15769.0           7        130        56252.72           1           1   \n",
              "15061.0           3        403        54534.14           1           1   \n",
              "\n",
              "            m_quartile RFMScore  \n",
              "CustomerID                       \n",
              "18102.0              1      111  \n",
              "17450.0              1      111  \n",
              "17511.0              1      111  \n",
              "16684.0              1      111  \n",
              "14096.0              1      111  \n",
              "13694.0              1      111  \n",
              "15311.0              1      111  \n",
              "13089.0              1      111  \n",
              "15769.0              1      111  \n",
              "15061.0              1      111  "
            ]
          },
          "metadata": {
            "tags": []
          },
          "execution_count": 20
        }
      ]
    },
    {
      "cell_type": "markdown",
      "metadata": {
        "id": "Y4XJ6HEetmVN"
      },
      "source": [
        "\n",
        "---\n",
        "*Special thanks to AMAN KHARWAL for the project idea and guide.*"
      ]
    }
  ]
}